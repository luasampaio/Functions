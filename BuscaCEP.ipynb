{
  "nbformat": 4,
  "nbformat_minor": 0,
  "metadata": {
    "colab": {
      "provenance": [],
      "authorship_tag": "ABX9TyM5am9t50pPEx8tSWn2Pse6",
      "include_colab_link": true
    },
    "kernelspec": {
      "name": "python3",
      "display_name": "Python 3"
    },
    "language_info": {
      "name": "python"
    }
  },
  "cells": [
    {
      "cell_type": "markdown",
      "metadata": {
        "id": "view-in-github",
        "colab_type": "text"
      },
      "source": [
        "<a href=\"https://colab.research.google.com/github/luasampaio/Functions/blob/main/BuscaCEP.ipynb\" target=\"_parent\"><img src=\"https://colab.research.google.com/assets/colab-badge.svg\" alt=\"Open In Colab\"/></a>"
      ]
    },
    {
      "cell_type": "code",
      "execution_count": 1,
      "metadata": {
        "id": "V6otd_BqV_hQ"
      },
      "outputs": [],
      "source": [
        "import http.client\n",
        "import json"
      ]
    },
    {
      "cell_type": "code",
      "source": [
        "import http.client\n",
        "import json\n",
        "\n",
        "def obter_endereco_por_cep(cep):\n",
        "    \"\"\"\n",
        "    Consulta a API do ViaCEP para obter informações de endereço com base em um CEP.\n",
        "\n",
        "    Parâmetros:\n",
        "        cep (str): CEP que será consultado.\n",
        "\n",
        "    Retorna:\n",
        "        dict ou str:\n",
        "            Dicionário contendo informações do endereço, ou uma mensagem de erro caso o CEP não seja válido.\n",
        "    \"\"\"\n",
        "\n",
        "    # Abre conexão HTTPS com o servidor da ViaCEP\n",
        "    conexao = http.client.HTTPSConnection(\"viacep.com.br\")\n",
        "\n",
        "    # Realiza a requisição GET usando o CEP informado na URL da API\n",
        "    conexao.request(\"GET\", f\"/ws/{cep}/json/\")\n",
        "\n",
        "    # Aguarda resposta da requisição feita ao servidor\n",
        "    resposta = conexao.getresponse()\n",
        "\n",
        "    # Lê e decodifica o conteúdo recebido (formato JSON)\n",
        "    dados = resposta.read().decode(\"utf-8\")\n",
        "\n",
        "    # Converte os dados JSON em um dicionário Python\n",
        "    endereco = json.loads(dados)\n",
        "\n",
        "    # Fecha conexão com o servidor para liberar recursos\n",
        "    conexao.close()\n",
        "\n",
        "    # Verifica se houve erro na busca (CEP inválido)\n",
        "    if \"erro\" not in endereco:\n",
        "        return endereco\n",
        "    else:\n",
        "        return \"CEP não encontrado.\"\n",
        "\n",
        "# Exemplo de uso da função:\n",
        "if __name__ == \"__main__\":\n",
        "    cep = \"07270170\"\n",
        "    resultado = obter_endereco_por_cep(cep)\n",
        "    print(resultado)\n"
      ],
      "metadata": {
        "colab": {
          "base_uri": "https://localhost:8080/"
        },
        "id": "eqevxWESaPzN",
        "outputId": "9ef0714f-81fe-4b95-985c-d0689705c146"
      },
      "execution_count": 2,
      "outputs": [
        {
          "output_type": "stream",
          "name": "stdout",
          "text": [
            "{'cep': '07270-170', 'logradouro': 'Rua Campina Grande do Sul', 'complemento': '', 'unidade': '', 'bairro': 'Jardim Centenário', 'localidade': 'Guarulhos', 'uf': 'SP', 'estado': 'São Paulo', 'regiao': 'Sudeste', 'ibge': '3518800', 'gia': '3360', 'ddd': '11', 'siafi': '6477'}\n"
          ]
        }
      ]
    },
    {
      "cell_type": "code",
      "source": [
        "# Exemplo de uso da função:\n",
        "if __name__ == \"__main__\":\n",
        "    cep = \"07270170\"\n",
        "    resultado = obter_endereco_por_cep(cep)\n",
        "    print(resultado)"
      ],
      "metadata": {
        "colab": {
          "base_uri": "https://localhost:8080/"
        },
        "id": "MKqgzl9UdrM6",
        "outputId": "5d5928d1-1da7-429d-a21b-ce972848fdf8"
      },
      "execution_count": 3,
      "outputs": [
        {
          "output_type": "stream",
          "name": "stdout",
          "text": [
            "{'cep': '07270-170', 'logradouro': 'Rua Campina Grande do Sul', 'complemento': '', 'unidade': '', 'bairro': 'Jardim Centenário', 'localidade': 'Guarulhos', 'uf': 'SP', 'estado': 'São Paulo', 'regiao': 'Sudeste', 'ibge': '3518800', 'gia': '3360', 'ddd': '11', 'siafi': '6477'}\n"
          ]
        }
      ]
    },
    {
      "cell_type": "code",
      "source": [
        "cep_exemplo = \"07270170\"\n",
        "endereco_resultado = obter_endereco_por_cep(cep_exemplo)\n",
        "print(endereco_resultado)"
      ],
      "metadata": {
        "colab": {
          "base_uri": "https://localhost:8080/"
        },
        "id": "PwjRD6SasYI9",
        "outputId": "be505187-4918-49f8-9086-0e389586b5d3"
      },
      "execution_count": 4,
      "outputs": [
        {
          "output_type": "stream",
          "name": "stdout",
          "text": [
            "{'cep': '07270-170', 'logradouro': 'Rua Campina Grande do Sul', 'complemento': '', 'unidade': '', 'bairro': 'Jardim Centenário', 'localidade': 'Guarulhos', 'uf': 'SP', 'estado': 'São Paulo', 'regiao': 'Sudeste', 'ibge': '3518800', 'gia': '3360', 'ddd': '11', 'siafi': '6477'}\n"
          ]
        }
      ]
    },
    {
      "cell_type": "code",
      "source": [],
      "metadata": {
        "id": "hA7E_dpvy2Gd"
      },
      "execution_count": 4,
      "outputs": []
    }
  ]
}