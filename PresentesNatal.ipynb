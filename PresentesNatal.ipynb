{
  "nbformat": 4,
  "nbformat_minor": 0,
  "metadata": {
    "colab": {
      "provenance": [],
      "authorship_tag": "ABX9TyPcb3EHGTNuj2yqvGbb5QOO",
      "include_colab_link": true
    },
    "kernelspec": {
      "name": "python3",
      "display_name": "Python 3"
    },
    "language_info": {
      "name": "python"
    }
  },
  "cells": [
    {
      "cell_type": "markdown",
      "metadata": {
        "id": "view-in-github",
        "colab_type": "text"
      },
      "source": [
        "<a href=\"https://colab.research.google.com/github/luasampaio/Functions/blob/main/PresentesNatal.ipynb\" target=\"_parent\"><img src=\"https://colab.research.google.com/assets/colab-badge.svg\" alt=\"Open In Colab\"/></a>"
      ]
    },
    {
      "cell_type": "code",
      "source": [
        "import numpy as np"
      ],
      "metadata": {
        "id": "h871d-uxEXY1"
      },
      "execution_count": 1,
      "outputs": []
    },
    {
      "cell_type": "code",
      "execution_count": 2,
      "metadata": {
        "id": "RkqxUGfuETHh"
      },
      "outputs": [],
      "source": [
        "def quantidade_de_presentes_ganhos_de_natal():\n",
        "\n",
        "    presentes_ganhos = np.random.randint(10)\n",
        "\n",
        "    presentes_minimos = 2\n",
        "\n",
        "    if presentes_ganhos < presentes_minimos:\n",
        "\n",
        "        presentes_ganhos = presentes_minimos\n",
        "\n",
        "    return presentes_ganhos"
      ]
    },
    {
      "cell_type": "code",
      "source": [
        "meus_presentes = quantidade_de_presentes_ganhos_de_natal()\n",
        "\n",
        "meus_presentes"
      ],
      "metadata": {
        "colab": {
          "base_uri": "https://localhost:8080/"
        },
        "id": "xSptd30hEZtl",
        "outputId": "18ab9e10-3bf9-42d5-8d98-f09c0c2132d8"
      },
      "execution_count": 3,
      "outputs": [
        {
          "output_type": "execute_result",
          "data": {
            "text/plain": [
              "8"
            ]
          },
          "metadata": {},
          "execution_count": 3
        }
      ]
    },
    {
      "source": [
        "def naive(a, x):\n",
        "    return next((i for i in range(len(a)) if a[i] == x), -1)\n",
        "\n",
        "\n",
        "if __name__ == \"__main__\":\n",
        "    while True:\n",
        "        try:\n",
        "            num_list_str = input(\"Enter a list of numbers separated by spaces: \")\n",
        "            num_list = list(map(int, num_list_str.split()))\n",
        "            break  # Exit loop if successful\n",
        "        except ValueError:\n",
        "            print(\"Invalid input. Please enter only numbers separated by spaces.\")\n",
        "\n",
        "    while True:\n",
        "        try:\n",
        "            x = int(input(\"Enter the number to search for: \"))\n",
        "            break # Exit loop if successful\n",
        "        except ValueError:\n",
        "            print(\"Invalid input. Please enter an integer.\")\n",
        "\n",
        "    print(naive(num_list, x))"
      ],
      "cell_type": "code",
      "metadata": {
        "colab": {
          "base_uri": "https://localhost:8080/"
        },
        "id": "v8EJXXtPF4D4",
        "outputId": "18323559-e6fb-4979-cc70-6e1a3b210c41"
      },
      "execution_count": 7,
      "outputs": [
        {
          "output_type": "stream",
          "name": "stdout",
          "text": [
            "Enter a list of numbers separated by spaces: 10,23,45,2,4\n",
            "Invalid input. Please enter only numbers separated by spaces.\n",
            "Enter a list of numbers separated by spaces: 4\n",
            "Enter the number to search for: 4\n",
            "0\n"
          ]
        }
      ]
    }
  ]
}