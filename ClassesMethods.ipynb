{
  "nbformat": 4,
  "nbformat_minor": 0,
  "metadata": {
    "colab": {
      "provenance": [],
      "authorship_tag": "ABX9TyNGOKpAPo5ZE0li5PmpNMF2",
      "include_colab_link": true
    },
    "kernelspec": {
      "name": "python3",
      "display_name": "Python 3"
    },
    "language_info": {
      "name": "python"
    }
  },
  "cells": [
    {
      "cell_type": "markdown",
      "metadata": {
        "id": "view-in-github",
        "colab_type": "text"
      },
      "source": [
        "<a href=\"https://colab.research.google.com/github/luasampaio/Functions/blob/main/ClassesMethods.ipynb\" target=\"_parent\"><img src=\"https://colab.research.google.com/assets/colab-badge.svg\" alt=\"Open In Colab\"/></a>"
      ]
    },
    {
      "cell_type": "code",
      "source": [
        "Estados = [\"SP\", \"RJ\"]"
      ],
      "metadata": {
        "id": "R7L8zG9hK79P"
      },
      "execution_count": null,
      "outputs": []
    },
    {
      "source": [
        "# Define the list of states\n",
        "Estados_list = [\"SP\", \"RJ\"]\n",
        "\n",
        "# Define a function to print information about a patient's state\n",
        "def print_estado(estado):\n",
        "    print(f'Paciente mora no {estado}')\n",
        "\n",
        "# Call the function with the first state in the list\n",
        "print_estado(Estados_list[0])"
      ],
      "cell_type": "code",
      "metadata": {
        "id": "SfmRYOAbLewa",
        "outputId": "3b3ef8f1-ad0d-4a25-e19f-199482507c66",
        "colab": {
          "base_uri": "https://localhost:8080/"
        }
      },
      "execution_count": null,
      "outputs": [
        {
          "output_type": "stream",
          "name": "stdout",
          "text": [
            "Paciente mora no SP\n"
          ]
        }
      ]
    },
    {
      "cell_type": "code",
      "execution_count": null,
      "metadata": {
        "id": "hYcMMDhNJDAa",
        "outputId": "e41bebdb-d8c7-4688-fd1d-7b4492f1bef0",
        "colab": {
          "base_uri": "https://localhost:8080/"
        }
      },
      "outputs": [
        {
          "output_type": "error",
          "ename": "IndentationError",
          "evalue": "expected an indented block after function definition on line 5 (<ipython-input-1-76b3573e670d>, line 9)",
          "traceback": [
            "\u001b[0;36m  File \u001b[0;32m\"<ipython-input-1-76b3573e670d>\"\u001b[0;36m, line \u001b[0;32m9\u001b[0m\n\u001b[0;31m    if __name__ == '__main__':\u001b[0m\n\u001b[0m    ^\u001b[0m\n\u001b[0;31mIndentationError\u001b[0m\u001b[0;31m:\u001b[0m expected an indented block after function definition on line 5\n"
          ]
        }
      ],
      "source": [
        "def regionals():\n",
        "    pass\n",
        "\n",
        "\n",
        "def regional():\n",
        "\n",
        "\n",
        "\n",
        "if __name__ == '__main__':\n",
        "    regionals()"
      ]
    },
    {
      "cell_type": "code",
      "source": [
        "# prompt: crie um exemplo de list em python\n",
        "\n",
        "# Lista de frutas\n",
        "frutas = [\"maçã\", \"banana\", \"laranja\", \"uva\"]\n",
        "\n",
        "# Imprime a lista completa\n",
        "print(frutas)\n",
        "\n",
        "# Acessa um elemento da lista pelo índice\n",
        "print(frutas[0])  # Imprime \"maçã\"\n",
        "\n",
        "# Adiciona um elemento à lista\n",
        "frutas.append(\"pêra\")\n",
        "print(frutas)\n",
        "\n",
        "# Remove um elemento da lista\n",
        "frutas.remove(\"banana\")\n",
        "print(frutas)\n",
        "\n",
        "# Verifica se um elemento está na lista\n",
        "if \"laranja\" in frutas:\n",
        "  print(\"Laranja está na lista de frutas.\")"
      ],
      "metadata": {
        "id": "TXZHFavUKx6t",
        "colab": {
          "base_uri": "https://localhost:8080/"
        },
        "outputId": "63a2e0b5-0dc6-4062-c0f4-0d94d8ca1429"
      },
      "execution_count": null,
      "outputs": [
        {
          "output_type": "stream",
          "name": "stdout",
          "text": [
            "['maçã', 'banana', 'laranja', 'uva']\n",
            "maçã\n",
            "['maçã', 'banana', 'laranja', 'uva', 'pêra']\n",
            "['maçã', 'laranja', 'uva', 'pêra']\n",
            "Laranja está na lista de frutas.\n"
          ]
        }
      ]
    },
    {
      "cell_type": "code",
      "source": [],
      "metadata": {
        "id": "pYpHciYFHYww"
      },
      "execution_count": null,
      "outputs": []
    }
  ]
}